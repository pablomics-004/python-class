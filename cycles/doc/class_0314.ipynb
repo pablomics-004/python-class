{
 "cells": [
  {
   "cell_type": "markdown",
   "metadata": {},
   "source": [
    "# Ejercicios de clase\n",
    "\n",
    "## Condicionales de Python"
   ]
  },
  {
   "cell_type": "code",
   "execution_count": 6,
   "metadata": {},
   "outputs": [
    {
     "name": "stdout",
     "output_type": "stream",
     "text": [
      "Secuencia corta\n"
     ]
    }
   ],
   "source": [
    "secuencia = \"ATGCGTGATGATGCGACGAT\" # Coloca aquí una secuencia de ADN`\n",
    "\n",
    "if len(secuencia) > 2000:\n",
    "   print(\"Secuencia larga\")\n",
    "else:\n",
    "  print(\"Secuencia corta\")"
   ]
  },
  {
   "cell_type": "code",
   "execution_count": null,
   "metadata": {},
   "outputs": [
    {
     "name": "stdout",
     "output_type": "stream",
     "text": [
      "Expresión normal\n"
     ]
    }
   ],
   "source": [
    "expresion = 5.2  # Cambia este valor\n",
    "\n",
    "'''\n",
    "Exp. alta > 10\n",
    "Exp. normal >= 5\n",
    "Exp. baja < 5\n",
    "'''\n",
    "\n",
    "if   expresion > 10 :\n",
    "    print(\"Gen sobreexpresado\")\n",
    "elif expresion  > 4:\n",
    "    print(\"Expresión normal\")\n",
    "else:\n",
    "    print(\"Baja expresión\")"
   ]
  },
  {
   "cell_type": "code",
   "execution_count": null,
   "metadata": {},
   "outputs": [],
   "source": [
    "secuencia = \"ATGCGTAGC\"\n",
    "\n",
    "if 'N' in secuencia:\n",
    "    print(\"Secuencia con bases desconocidas\")\n",
    "else:\n",
    "    print(\"Secuencia válida\")"
   ]
  },
  {
   "cell_type": "markdown",
   "metadata": {},
   "source": [
    "# Listas en Python :D\n",
    "\n",
    "Se trata de objetos mutables e iterables, es decir, pueden ser modificados y sus elementos recorridos por índice. Así mismo, sus elementos son de diferentes tipos de datos, incluidos objetos."
   ]
  },
  {
   "cell_type": "code",
   "execution_count": null,
   "metadata": {},
   "outputs": [
    {
     "name": "stdout",
     "output_type": "stream",
     "text": [
      "['Hola', [1, 2, 3, 4, 5, 6, 7], 3.14]\n",
      "[3.14, [1, 2, 3, 4, 5, 6, 7], 'Hola']\n",
      "[1, 2, 3, 4, 5, 6, 7]\n",
      "5\n"
     ]
    }
   ],
   "source": [
    "lista = ['Hola',[x for x in range(1,8)],3.14]\n",
    "print(lista)\n",
    "print(lista[::-1]) # Lista al revés\n",
    "print(lista[1]) # Accesando a un elemento de la lista\n",
    "print(lista[1][4]) # Accesando a un elemento de la lista embebida"
   ]
  },
  {
   "cell_type": "markdown",
   "metadata": {},
   "source": [
    "A su vez, podemos castear tipos de objetos iterables a listas mediante la función `list()`."
   ]
  },
  {
   "cell_type": "code",
   "execution_count": 12,
   "metadata": {},
   "outputs": [
    {
     "name": "stdout",
     "output_type": "stream",
     "text": [
      "[1, 2, 3, 4, 5]\n"
     ]
    }
   ],
   "source": [
    "tuple_2_list = list((1,2,3,4,5))\n",
    "print(tuple_2_list)"
   ]
  },
  {
   "cell_type": "markdown",
   "metadata": {},
   "source": [
    "**Slicing**: nos permite tomar fracciones de una lista.\n",
    "\n",
    "`lista[start:end:step]` # Índices y pasos \n",
    "\n",
    "## Métodos de las listas"
   ]
  },
  {
   "cell_type": "code",
   "execution_count": 23,
   "metadata": {},
   "outputs": [
    {
     "name": "stdout",
     "output_type": "stream",
     "text": [
      "[1, 2, 3]\n",
      "[1, 2, 3, 4]\n",
      "[1, 2, 3, 4, 5, 6]\n",
      "[1, 10, 2, 3, 4, 5, 6]\n",
      "\n",
      "Eliminando elementos:\n",
      "\n",
      "[1, 2, 3, 4, 5, 6]\n",
      "[1, 2, 3, 4, 6]\n",
      "[]\n"
     ]
    }
   ],
   "source": [
    "numeros = [x for x in range(1,4)]\n",
    "print(numeros)\n",
    "numeros.append(4) # Añade al final\n",
    "print(numeros)\n",
    "numeros.extend([x for x in range(5,7)])\n",
    "print(numeros)\n",
    "numeros.insert(1,10) # .insert(index,value)\n",
    "print(numeros)\n",
    "\n",
    "print(\"\\nEliminando elementos:\\n\")\n",
    "\n",
    "numeros.remove(10)\n",
    "print(numeros)\n",
    "numeros.pop(4)\n",
    "print(numeros)\n",
    "numeros.clear()\n",
    "print(numeros)"
   ]
  },
  {
   "cell_type": "markdown",
   "metadata": {},
   "source": [
    "### Comprehension lists\n",
    "\n",
    "Son estructuras nativas de Python, por lo que su implementación está en C, de tal modo que el for dentro de una comprehension list es exactamente la misma que en C, resultando en un ciclo for mucho más rápido."
   ]
  },
  {
   "cell_type": "code",
   "execution_count": 24,
   "metadata": {},
   "outputs": [
    {
     "name": "stdout",
     "output_type": "stream",
     "text": [
      "[2, 4, 6, 8, 10]\n"
     ]
    }
   ],
   "source": [
    "pares = [x for x in range(1,11) if x % 2 == 0]\n",
    "print(pares)"
   ]
  },
  {
   "cell_type": "markdown",
   "metadata": {},
   "source": [
    "## Ejercicios de listas"
   ]
  },
  {
   "cell_type": "code",
   "execution_count": null,
   "metadata": {},
   "outputs": [
    {
     "name": "stdout",
     "output_type": "stream",
     "text": [
      "['A', 'U', 'G', 'C']\n"
     ]
    }
   ],
   "source": [
    "# Ejericio 1\n",
    "secuencia = list('ATGC')\n",
    "secuencia[1] = 'U'\n",
    "print(secuencia)"
   ]
  },
  {
   "cell_type": "code",
   "execution_count": 27,
   "metadata": {},
   "outputs": [
    {
     "name": "stdout",
     "output_type": "stream",
     "text": [
      "['A', 'T', 'G', 'C', 'G', 'T', 'A', 'G', 'C']\n"
     ]
    }
   ],
   "source": [
    "# Ejercicio 2\n",
    "bases = list(\"ATGCGTAGC\")\n",
    "print(bases)"
   ]
  },
  {
   "cell_type": "code",
   "execution_count": 30,
   "metadata": {},
   "outputs": [
    {
     "name": "stdout",
     "output_type": "stream",
     "text": [
      "Primeros 5: ['A', 'T', 'G', 'C', 'G']\n",
      "3 últimos: ['A', 'G', 'C']\n",
      "Secuencia al revés: ['C', 'G', 'A', 'T', 'G', 'C', 'G', 'T', 'A']\n"
     ]
    }
   ],
   "source": [
    "# Ejercicio 3\n",
    "print(f\"Primeros 5: {bases[:5]}\")\n",
    "print(f\"3 últimos: {bases[-3:]}\")\n",
    "print(f\"Secuencia al revés: {bases[::-1]}\")"
   ]
  },
  {
   "cell_type": "code",
   "execution_count": 32,
   "metadata": {},
   "outputs": [
    {
     "name": "stdout",
     "output_type": "stream",
     "text": [
      "[('A', 2), ('T', 3), ('C', 2), ('G', 2)]\n"
     ]
    }
   ],
   "source": [
    "# Ejercicio 4\n",
    "secuencia = \"ATGCTTCGA\"\n",
    "bases = list(\"ATCG\")\n",
    "count = [\n",
    "    (base,secuencia.count(base))\n",
    "    for base in bases\n",
    "]\n",
    "print(count)"
   ]
  },
  {
   "cell_type": "code",
   "execution_count": 33,
   "metadata": {},
   "outputs": [
    {
     "name": "stdout",
     "output_type": "stream",
     "text": [
      "['A', 'T', 'G', 'C', 'R', 'A', 'T', 'G', 'C']\n"
     ]
    }
   ],
   "source": [
    "# Ejercicio 5\n",
    "secuencia = [\"A\", \"T\", \"G\", \"C\", \"N\", \"R\", \"Y\", \"A\", \"T\", \"G\", \"C\"]\n",
    "rare_bases = list(\"NRY\")\n",
    "\n",
    "for base in secuencia:\n",
    "    if base in rare_bases:\n",
    "        secuencia.remove(base)\n",
    "\n",
    "print(secuencia)"
   ]
  }
 ],
 "metadata": {
  "kernelspec": {
   "display_name": "Python 3",
   "language": "python",
   "name": "python3"
  },
  "language_info": {
   "codemirror_mode": {
    "name": "ipython",
    "version": 3
   },
   "file_extension": ".py",
   "mimetype": "text/x-python",
   "name": "python",
   "nbconvert_exporter": "python",
   "pygments_lexer": "ipython3",
   "version": "3.13.2"
  }
 },
 "nbformat": 4,
 "nbformat_minor": 2
}
