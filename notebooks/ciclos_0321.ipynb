{
 "cells": [
  {
   "cell_type": "markdown",
   "metadata": {},
   "source": [
    "# Ciclos iterativos\n",
    "\n",
    "## Ciclo for\n",
    "\n",
    "Itera sobre cada elemento sobre una secuencia (listas, archivos de texto, sets).\n",
    "\n",
    "```py\n",
    "for <element> in <iterable>:\n",
    "    # Whatever we do with each element\n",
    "```\n",
    "\n",
    "Ejemplo:\n",
    "\n",
    "```py\n",
    "genes = [\"rpoB\",\"lacZ\",\"gyrA\",\"recA\"]\n",
    "for gen in genes:\n",
    "    print(f\"Procesando el gene: {gen}\")\n",
    "```"
   ]
  },
  {
   "cell_type": "code",
   "execution_count": 9,
   "metadata": {},
   "outputs": [
    {
     "name": "stdout",
     "output_type": "stream",
     "text": [
      "El nombre del gen es: rpoB\n",
      "El nombre del gen es: lacZ\n",
      "El nombre del gen es: gyrA\n",
      "El nombre del gen es: recA\n",
      "El nombre del gen es: crp\n"
     ]
    }
   ],
   "source": [
    "genes = [\"rpoB\",\"lacZ\",\"gyrA\",\"recA\",\"crp\"]\n",
    "\n",
    "for gen in genes:\n",
    "    print(f\"El nombre del gen es: {gen}\")"
   ]
  },
  {
   "cell_type": "code",
   "execution_count": 8,
   "metadata": {},
   "outputs": [
    {
     "name": "stdout",
     "output_type": "stream",
     "text": [
      "El nombre del gen es: crp\n",
      "El nombre del gen es: recA\n",
      "El nombre del gen es: gyrA\n",
      "El nombre del gen es: lacZ\n",
      "El nombre del gen es: rpoB\n"
     ]
    }
   ],
   "source": [
    "# Inverso de la lista\n",
    "for gen in genes[::-1]:\n",
    "    print(f\"El nombre del gen es: {gen}\")"
   ]
  },
  {
   "cell_type": "code",
   "execution_count": 16,
   "metadata": {},
   "outputs": [
    {
     "name": "stdout",
     "output_type": "stream",
     "text": [
      "0 2 4 6 8 10 "
     ]
    }
   ],
   "source": [
    "# Para un rango de número :D\n",
    "for valor in range(0,11,2): # (start,stop - 1,step)\n",
    "    print(valor,end=' ')"
   ]
  },
  {
   "cell_type": "code",
   "execution_count": null,
   "metadata": {},
   "outputs": [
    {
     "name": "stdout",
     "output_type": "stream",
     "text": [
      "C C G A C T T C G A T G A C "
     ]
    }
   ],
   "source": [
    "secuencia = \"CCGACTTCGATGAC\" # Iterando sobre strings\n",
    "\n",
    "for nucleotido in secuencia:\n",
    "    print(nucleotido,end=' ')"
   ]
  },
  {
   "cell_type": "markdown",
   "metadata": {},
   "source": [
    "### ¿Qué onda con las identaciones?\n",
    "\n",
    "En Python, las identaciones caracterizan bloques de código para el intérprete, por lo que, en cualquier caso, resulta imprescindible llevar el seguimiento de estos mismos para evitar un `unexpected ident`."
   ]
  },
  {
   "cell_type": "code",
   "execution_count": null,
   "metadata": {},
   "outputs": [
    {
     "name": "stdout",
     "output_type": "stream",
     "text": [
      "Pongo pygmaeus is an ape. It's name starts with P.\n",
      "It's name has 14 letters.\n",
      "\n",
      "Pan troglodytes is an ape. It's name starts with P.\n",
      "It's name has 15 letters.\n",
      "\n",
      "Gorilla gorilla is an ape. It's name starts with G.\n",
      "It's name has 15 letters.\n",
      "\n"
     ]
    }
   ],
   "source": [
    "apes = [\"Pongo pygmaeus\",\"Pan troglodytes\",\"Gorilla gorilla\"]\n",
    "\n",
    "for ape in apes:\n",
    "    name_length = len(ape)\n",
    "    first_letter = ape[0]\n",
    "    # Todo lo siguiente puede facilitarse con un f\"str\"\n",
    "    print(ape + \" is an ape. It's name starts with \" + first_letter + \".\")\n",
    "    print(\"It's name has \" + str(name_length) + \" letters.\\n\")"
   ]
  },
  {
   "cell_type": "code",
   "execution_count": 24,
   "metadata": {},
   "outputs": [
    {
     "name": "stdout",
     "output_type": "stream",
     "text": [
      "Pongo pygmaeus is an ape. It's name starts with P.\n",
      "It's name has 14 letters.\n",
      "\n",
      "Pan troglodytes is an ape. It's name starts with P.\n",
      "It's name has 15 letters.\n",
      "\n",
      "Gorilla gorilla is an ape. It's name starts with G.\n",
      "It's name has 15 letters.\n",
      "\n"
     ]
    }
   ],
   "source": [
    "# Otra versión\n",
    "for ape in apes:\n",
    "    # Todo lo siguiente puede facilitarse con un f\"str\"\n",
    "    print(f\"{ape} is an ape. It's name starts with {ape[0]}.\")\n",
    "    print(f\"It's name has {len(ape)} letters.\\n\")"
   ]
  },
  {
   "cell_type": "markdown",
   "metadata": {},
   "source": [
    "# Strings\n",
    "\n",
    "## .split(separator,maxsplit)\n",
    "\n",
    "Método utilizado para separar elementos de un string por un separador indicado por el usario, por `default` toma los espacios en blanco (pero no `\\t` o `\\s`). Sus parámetros:\n",
    "\n",
    "- `separator`: caracter(es) que será(n) utilizado(s).\n",
    "- `maxsplit`: primeras ocurrencias del separador que serán tomadas en cuenta."
   ]
  },
  {
   "cell_type": "code",
   "execution_count": 30,
   "metadata": {},
   "outputs": [
    {
     "name": "stdout",
     "output_type": "stream",
     "text": [
      "['ATG', 'CGT', 'TAA', 'GGC']\n",
      "[' ATG CGT TAA GGC']\n",
      "[' ATG', 'CGT', 'TAA-GGC']\n"
     ]
    }
   ],
   "source": [
    "texto = \" ATG CGT TAA GGC\"\n",
    "lista = texto.split() # Toma espacios en blanco\n",
    "print(lista)\n",
    "\n",
    "lista = texto.split(\",\") # Toma espacios en blanco\n",
    "print(lista)\n",
    "\n",
    "texto = \" ATG-CGT-TAA-GGC\"\n",
    "lista = texto.split(\"-\",2) # Primeras dos ocurrencias del separador\n",
    "print(lista)"
   ]
  },
  {
   "cell_type": "markdown",
   "metadata": {},
   "source": [
    "## .map(function, iterable, *iterables)\n",
    "\n",
    "Aplica una función a un iterable, pero no sobre este, sino sobre cada elemento. Devuelve un objeto tipo `.map()`."
   ]
  },
  {
   "cell_type": "code",
   "execution_count": null,
   "metadata": {},
   "outputs": [
    {
     "name": "stdout",
     "output_type": "stream",
     "text": [
      "<map object at 0x7acea5e473a0>\n",
      "6\n"
     ]
    }
   ],
   "source": [
    "numero_str = input(\"Dame 3 números separados por espacio: \").split()\n",
    "numero = map(int,numero_str) # Dado que map es un iterable \n",
    "suma = sum(numero)\n",
    "print(suma)"
   ]
  },
  {
   "cell_type": "markdown",
   "metadata": {},
   "source": [
    "## Loop, archivo y split\n",
    "\n",
    "Haciendo un ejercicio :D."
   ]
  },
  {
   "cell_type": "code",
   "execution_count": 44,
   "metadata": {},
   "outputs": [
    {
     "name": "stdout",
     "output_type": "stream",
     "text": [
      "['NC_000913.3', 'RefSeq', 'gene', '190', '255', '.']\n",
      "gene length: 66\n",
      "['NC_000913.3', 'RefSeq', 'gene', '337', '2799', '.']\n",
      "gene length: 2463\n"
     ]
    }
   ],
   "source": [
    "with open(\"genes.gff\") as file:\n",
    "\n",
    "    for line in file:\n",
    "        columns = line.strip().split(\"\\t\")\n",
    "        print(columns)\n",
    "\n",
    "        if columns[3].isdigit() and columns[4].isdigit():\n",
    "            size = int(columns[4]) - int(columns[3]) + 1\n",
    "        \n",
    "        print(f\"gene length: {size}\")"
   ]
  },
  {
   "cell_type": "markdown",
   "metadata": {},
   "source": [
    "## Modificando el comportamiento de un for\n",
    "\n",
    "Para ello podemos colocar condiciones que, a su vez, contengan `break` o `continue`/`pass`. El primero rompe el ciclo y el segundo hace que continúe a la siguiente iteración."
   ]
  },
  {
   "cell_type": "markdown",
   "metadata": {},
   "source": [
    "## Otras funciones útiles en el for\n",
    "\n",
    "### enumerate()\n",
    "\n",
    "Devuelve el índice y elemento de un iterable."
   ]
  },
  {
   "cell_type": "code",
   "execution_count": 48,
   "metadata": {},
   "outputs": [
    {
     "name": "stdout",
     "output_type": "stream",
     "text": [
      "Posición 0: G; Posición 1: T; Posición 2: T; Posición 3: C; Posición 4: G; Posición 5: A; Posición 6: C; Posición 7: T; Posición 8: A; "
     ]
    }
   ],
   "source": [
    "secuencia = \"GTTCGACTA\"\n",
    "\n",
    "for i,base in enumerate(secuencia):\n",
    "    print(f\"Posición {i}: {base}\",end='; ')"
   ]
  },
  {
   "cell_type": "markdown",
   "metadata": {},
   "source": [
    "### zip()\n",
    "\n",
    "Itera sobre múltiples iterables a la vez, produciendo tuplas con un elemento de cada uno.\n",
    "\n",
    "En caso de que los iterables no tengan el mismo número de elementos, `zip()` itera con base en el más corto."
   ]
  },
  {
   "cell_type": "code",
   "execution_count": 52,
   "metadata": {},
   "outputs": [
    {
     "name": "stdout",
     "output_type": "stream",
     "text": [
      "A -> T\n",
      "T -> A\n",
      "G -> C\n",
      "C -> G\n"
     ]
    }
   ],
   "source": [
    "base = \"ATGC\"\n",
    "complementos = \"TACG\"\n",
    "\n",
    "for base,comp in zip(base,complementos):\n",
    "    print(f\"{base} -> {comp}\")"
   ]
  },
  {
   "cell_type": "markdown",
   "metadata": {},
   "source": [
    "## Ciclos `while(condition)`\n",
    "\n",
    "El bloque de código subordinado al `while` se ejecutará si y sólo si la condición es verdadera, resulta útil para menús interactivos con el usuario."
   ]
  }
 ],
 "metadata": {
  "kernelspec": {
   "display_name": "Python 3",
   "language": "python",
   "name": "python3"
  },
  "language_info": {
   "codemirror_mode": {
    "name": "ipython",
    "version": 3
   },
   "file_extension": ".py",
   "mimetype": "text/x-python",
   "name": "python",
   "nbconvert_exporter": "python",
   "pygments_lexer": "ipython3",
   "version": "3.13.2"
  }
 },
 "nbformat": 4,
 "nbformat_minor": 2
}
