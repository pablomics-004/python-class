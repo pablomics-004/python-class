{
 "cells": [
  {
   "cell_type": "markdown",
   "metadata": {},
   "source": [
    "# Ciclos iterativos\n",
    "\n",
    "## Ciclo for\n",
    "\n",
    "Itera sobre cada elemento sobre una secuencia (listas, archivos de texto, sets).\n",
    "\n",
    "```py\n",
    "for <element> in <iterable>:\n",
    "    # Whatever we do with each element\n",
    "```\n",
    "\n",
    "Ejemplo:\n",
    "\n",
    "```py\n",
    "genes = [\"rpoB\",\"lacZ\",\"gyrA\",\"recA\"]\n",
    "for gen in genes:\n",
    "    print(f\"Procesando el gene: {gen}\")\n",
    "```"
   ]
  },
  {
   "cell_type": "code",
   "execution_count": 4,
   "metadata": {},
   "outputs": [
    {
     "name": "stdout",
     "output_type": "stream",
     "text": [
      "El nombre del gen es: crp\n",
      "El nombre del gen es: gyrA\n",
      "El nombre del gen es: lacZ\n",
      "El nombre del gen es: recA\n",
      "El nombre del gen es: rpoB\n"
     ]
    }
   ],
   "source": [
    "genes = [\"rpoB\",\"lacZ\",\"gyrA\",\"recA\",\"crp\"]\n",
    "\n",
    "for gen in sorted(genes):\n",
    "    print(f\"El nombre del gen es: {gen}\")"
   ]
  }
 ],
 "metadata": {
  "kernelspec": {
   "display_name": "Python 3",
   "language": "python",
   "name": "python3"
  },
  "language_info": {
   "codemirror_mode": {
    "name": "ipython",
    "version": 3
   },
   "file_extension": ".py",
   "mimetype": "text/x-python",
   "name": "python",
   "nbconvert_exporter": "python",
   "pygments_lexer": "ipython3",
   "version": "3.13.2"
  }
 },
 "nbformat": 4,
 "nbformat_minor": 2
}
