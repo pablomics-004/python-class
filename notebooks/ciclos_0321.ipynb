{
 "cells": [
  {
   "cell_type": "markdown",
   "metadata": {},
   "source": [
    "# Ciclos iterativos\n",
    "\n",
    "## Ciclo for\n",
    "\n",
    "Itera sobre cada elemento sobre una secuencia (listas, archivos de texto, sets).\n",
    "\n",
    "```py\n",
    "for <element> in <iterable>:\n",
    "    # Whatever we do with each element\n",
    "```\n",
    "\n",
    "Ejemplo:\n",
    "\n",
    "```py\n",
    "genes = [\"rpoB\",\"lacZ\",\"gyrA\",\"recA\"]\n",
    "for gen in genes:\n",
    "    print(f\"Procesando el gene: {gen}\")\n",
    "```"
   ]
  },
  {
   "cell_type": "code",
   "execution_count": 9,
   "metadata": {},
   "outputs": [
    {
     "name": "stdout",
     "output_type": "stream",
     "text": [
      "El nombre del gen es: rpoB\n",
      "El nombre del gen es: lacZ\n",
      "El nombre del gen es: gyrA\n",
      "El nombre del gen es: recA\n",
      "El nombre del gen es: crp\n"
     ]
    }
   ],
   "source": [
    "genes = [\"rpoB\",\"lacZ\",\"gyrA\",\"recA\",\"crp\"]\n",
    "\n",
    "for gen in genes:\n",
    "    print(f\"El nombre del gen es: {gen}\")"
   ]
  },
  {
   "cell_type": "code",
   "execution_count": 8,
   "metadata": {},
   "outputs": [
    {
     "name": "stdout",
     "output_type": "stream",
     "text": [
      "El nombre del gen es: crp\n",
      "El nombre del gen es: recA\n",
      "El nombre del gen es: gyrA\n",
      "El nombre del gen es: lacZ\n",
      "El nombre del gen es: rpoB\n"
     ]
    }
   ],
   "source": [
    "# Inverso de la lista\n",
    "for gen in genes[::-1]:\n",
    "    print(f\"El nombre del gen es: {gen}\")"
   ]
  },
  {
   "cell_type": "code",
   "execution_count": 16,
   "metadata": {},
   "outputs": [
    {
     "name": "stdout",
     "output_type": "stream",
     "text": [
      "0 2 4 6 8 10 "
     ]
    }
   ],
   "source": [
    "# Para un rango de número :D\n",
    "for valor in range(0,11,2): # (start,stop - 1,step)\n",
    "    print(valor,end=' ')"
   ]
  },
  {
   "cell_type": "code",
   "execution_count": null,
   "metadata": {},
   "outputs": [
    {
     "name": "stdout",
     "output_type": "stream",
     "text": [
      "C C G A C T T C G A T G A C "
     ]
    }
   ],
   "source": [
    "secuencia = \"CCGACTTCGATGAC\" # Iterando sobre strings\n",
    "\n",
    "for nucleotido in secuencia:\n",
    "    print(nucleotido,end=' ')"
   ]
  },
  {
   "cell_type": "markdown",
   "metadata": {},
   "source": [
    "### ¿Qué onda con las identaciones?\n",
    "\n",
    "En Python, las identaciones caracterizan bloques de código para el intérprete, por lo que, en cualquier caso, resulta imprescindible llevar el seguimiento de estos mismos para evitar un `unexpected ident`."
   ]
  },
  {
   "cell_type": "code",
   "execution_count": null,
   "metadata": {},
   "outputs": [
    {
     "name": "stdout",
     "output_type": "stream",
     "text": [
      "Pongo pygmaeus is an ape. It's name starts with P.\n",
      "It's name has 14 letters.\n",
      "\n",
      "Pan troglodytes is an ape. It's name starts with P.\n",
      "It's name has 15 letters.\n",
      "\n",
      "Gorilla gorilla is an ape. It's name starts with G.\n",
      "It's name has 15 letters.\n",
      "\n"
     ]
    }
   ],
   "source": [
    "apes = [\"Pongo pygmaeus\",\"Pan troglodytes\",\"Gorilla gorilla\"]\n",
    "\n",
    "for ape in apes:\n",
    "    name_length = len(ape)\n",
    "    first_letter = ape[0]\n",
    "    # Todo lo siguiente puede facilitarse con un f\"str\"\n",
    "    print(ape + \" is an ape. It's name starts with \" + first_letter + \".\")\n",
    "    print(\"It's name has \" + str(name_length) + \" letters.\\n\")"
   ]
  },
  {
   "cell_type": "code",
   "execution_count": 24,
   "metadata": {},
   "outputs": [
    {
     "name": "stdout",
     "output_type": "stream",
     "text": [
      "Pongo pygmaeus is an ape. It's name starts with P.\n",
      "It's name has 14 letters.\n",
      "\n",
      "Pan troglodytes is an ape. It's name starts with P.\n",
      "It's name has 15 letters.\n",
      "\n",
      "Gorilla gorilla is an ape. It's name starts with G.\n",
      "It's name has 15 letters.\n",
      "\n"
     ]
    }
   ],
   "source": [
    "# Otra versión\n",
    "for ape in apes:\n",
    "    # Todo lo siguiente puede facilitarse con un f\"str\"\n",
    "    print(f\"{ape} is an ape. It's name starts with {ape[0]}.\")\n",
    "    print(f\"It's name has {len(ape)} letters.\\n\")"
   ]
  },
  {
   "cell_type": "markdown",
   "metadata": {},
   "source": [
    "# Strings\n",
    "\n",
    "### .split(separator,maxsplit)\n",
    "\n",
    "Método utilizado para separar elementos de un string por un separador indicado por el usario, por `default` toma los espacios en blanco `\\s`. Sus parámetros:\n",
    "\n",
    "- `separator`: caracter(es) que será(n) utilizado(s).\n",
    "- `maxsplit`: primeras ocurrencias del separador que serán tomadas en cuenta."
   ]
  },
  {
   "cell_type": "code",
   "execution_count": 30,
   "metadata": {},
   "outputs": [
    {
     "name": "stdout",
     "output_type": "stream",
     "text": [
      "['ATG', 'CGT', 'TAA', 'GGC']\n",
      "[' ATG CGT TAA GGC']\n",
      "[' ATG', 'CGT', 'TAA-GGC']\n"
     ]
    }
   ],
   "source": [
    "texto = \" ATG CGT TAA GGC\"\n",
    "lista = texto.split() # Toma espacios en blanco\n",
    "print(lista)\n",
    "\n",
    "lista = texto.split(\",\") # Toma espacios en blanco\n",
    "print(lista)\n",
    "\n",
    "texto = \" ATG-CGT-TAA-GGC\"\n",
    "lista = texto.split(\"-\",2) # Primeras dos ocurrencias del separador\n",
    "print(lista)"
   ]
  }
 ],
 "metadata": {
  "kernelspec": {
   "display_name": "Python 3",
   "language": "python",
   "name": "python3"
  },
  "language_info": {
   "codemirror_mode": {
    "name": "ipython",
    "version": 3
   },
   "file_extension": ".py",
   "mimetype": "text/x-python",
   "name": "python",
   "nbconvert_exporter": "python",
   "pygments_lexer": "ipython3",
   "version": "3.13.2"
  }
 },
 "nbformat": 4,
 "nbformat_minor": 2
}
